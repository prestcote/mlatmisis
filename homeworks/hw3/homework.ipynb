{
 "cells": [
  {
   "cell_type": "markdown",
   "id": "ce7ba2d6-8e1e-4f53-a411-d2200eca241d",
   "metadata": {},
   "source": [
    "# Домашнее задание: LARS и варианты реализации многоклассовой классификации"
   ]
  },
  {
   "cell_type": "markdown",
   "id": "31c79191-f87b-4b5d-a1ed-f3f69ef82ddf",
   "metadata": {},
   "source": [
    "## Задание 1: Реализация регрессии с наименьшими углами (LARS)\n",
    "Регрессия с наименьшими углами (LARS) — это алгоритм регрессии, который выбирает признаки пошагово, что делает его подходящим для задач с большим количеством признаков. Цель — найти подмножество признаков, которые наилучшим образом объясняют целевую переменную.\n",
    "\n",
    "- LARS начинается с нуля для всех коэффициентов.\n",
    "\n",
    "- Алгоритм находит признак, наиболее коррелирующий с откликом, и обновляет коэффициент этого признака до его значения по методу наименьших квадратов, пока не будут включены все признаки или не выполнено условие остановки.\n",
    "\n",
    "Тут можно прочитать подробнее про алгоритм работы https://www.geeksforgeeks.org/least-angle-regression-lars/"
   ]
  },
  {
   "cell_type": "code",
   "execution_count": null,
   "id": "93b62bd9-1c71-4a3b-94b2-fe12ea092385",
   "metadata": {},
   "outputs": [],
   "source": [
    "import numpy as np\n",
    "import matplotlib.pyplot as plt\n",
    "from sklearn.metrics import r2_score\n",
    "from sklearn.linear_model import Lars\n",
    "\n",
    "class LARS:\n",
    "    def __init__(self):\n",
    "        pass\n",
    "    \n",
    "    def fit(self, X, y):\n",
    "        n_samples, n_features = X.shape\n",
    "        self.coefs_ = np.zeros(n_features)\n",
    "\n",
    "        # TODO: Реализуйте алгоритм LARS здесь\n",
    "        # Шаги:\n",
    "        # - Начать с нулевых коэффициентов\n",
    "        # - Найти признак, наиболее коррелирующий с остатками\n",
    "        # - Обновить коэффициенты для наиболее коррелированного признака\n",
    "        # - Повторить до выполнения условия остановки\n",
    "\n",
    "        # assert self.coefs_.shape == (n_features,)\n",
    "        \n",
    "    def predict(self, X):\n",
    "        return X.dot(self.coefs_)\n",
    "\n",
    "X_train = np.array([[1], [2], [3], [4], [5]])\n",
    "y_train = np.array([2, 3, 5, 7, 11])\n",
    "model = LARS()\n",
    "model.fit(X_train, y_train)\n",
    "preds = model.predict(X_train)"
   ]
  },
  {
   "cell_type": "code",
   "execution_count": null,
   "id": "7fe6a28b-afa4-4080-8cc8-d14fa2f4b590",
   "metadata": {},
   "outputs": [],
   "source": [
    "# Проверки для проверки предсказаний\n",
    "assert preds.shape == (5,), \"Предсказания должны соответствовать количеству образцов\"\n",
    "assert r2_score(y_train, preds) > 0.8, \"R2 должна быть выше 0.8\""
   ]
  },
  {
   "cell_type": "code",
   "execution_count": null,
   "id": "c63215c1-12fd-42a9-b098-65d38073eaa5",
   "metadata": {},
   "outputs": [],
   "source": [
    "# Сравнение с реализацией из sklearn\n",
    "sklearn_model = Lars()\n",
    "sklearn_model.fit(X_train, y_train)\n",
    "sklearn_preds = sklearn_model.predict(X_train)\n",
    "\n",
    "assert np.allclose(preds, sklearn_preds, rtol=1e-03), \"Предсказания должны совпадать с реализацией sklearn\""
   ]
  },
  {
   "cell_type": "code",
   "execution_count": null,
   "id": "4f0cf2e6-c764-43cb-a48c-341d03b0a10d",
   "metadata": {},
   "outputs": [],
   "source": [
    "plt.scatter(X_train, y_train, color='blue', label=\"Истинные значения\")\n",
    "plt.plot(X_train, preds, color='red', label=\"Предсказанные значения (LARS\")\n",
    "plt.plot(X_train, sklearn_preds, color='green', linestyle='dashed', label=\"Предсказанные значения (sklearn)\")\n",
    "plt.legend()\n",
    "plt.title(\"Регрессия LARS: Истинные vs Предсказанные значения\")\n",
    "plt.xlabel(\"X\")\n",
    "plt.ylabel(\"y\")\n",
    "plt.show()"
   ]
  },
  {
   "cell_type": "markdown",
   "id": "12495540-2f37-45cf-aa43-f91c74acf15a",
   "metadata": {},
   "source": [
    "## Задание 2: Классификация Один-против-Всех и Все-против-Всех с логистической регрессией\n",
    "В многоклассовой классификации два популярных подхода:\n",
    "\n",
    "- Один-против-Всех (OvA): Для каждого класса обучается отдельный классификатор, который отделяет этот класс от всех остальных.\n",
    "- Все-против-Всех (AvA): Обучается классификатор для каждой пары классов.\n",
    "\n",
    "https://education.yandex.ru/handbook/ml/article/linear-models#:~:text=%D0%9C%D0%BD%D0%BE%D0%B3%D0%BE%D0%BA%D0%BB%D0%B0%D1%81%D1%81%D0%BE%D0%B2%D0%B0%D1%8F%20%D0%BA%D0%BB%D0%B0%D1%81%D1%81%D0%B8%D1%84%D0%B8%D0%BA%D0%B0%D1%86%D0%B8%D1%8F-,%D0%9C%D0%BD%D0%BE%D0%B3%D0%BE%D0%BA%D0%BB%D0%B0%D1%81%D1%81%D0%BE%D0%B2%D0%B0%D1%8F%20%D0%BA%D0%BB%D0%B0%D1%81%D1%81%D0%B8%D1%84%D0%B8%D0%BA%D0%B0%D1%86%D0%B8%D1%8F,-%D0%92%20%D1%8D%D1%82%D0%BE%D0%BC%20%D1%80%D0%B0%D0%B7%D0%B4%D0%B5%D0%BB%D0%B5"
   ]
  },
  {
   "cell_type": "code",
   "execution_count": null,
   "id": "ac84e4e3-9071-4cf9-84aa-6cc6fd91327a",
   "metadata": {
    "jupyter": {
     "source_hidden": true
    },
    "tags": []
   },
   "outputs": [],
   "source": [
    "def plot_ova_classifier(classifier, X, y):\n",
    "    plt.figure(figsize=(10, 6))\n",
    "    colors = ['blue', 'green', 'red']\n",
    "    for i in np.unique(y):\n",
    "        plt.scatter(X[y == i][:, 0], X[y == i][:, 1], color=colors[i], label=f\"Класс {i}\")\n",
    "    \n",
    "    x_min, x_max = X[:, 0].min() - 1, X[:, 0].max() + 1\n",
    "    y_min, y_max = X[:, 1].min() - 1, X[:, 1].max() + 1\n",
    "    xx, yy = np.meshgrid(np.arange(x_min, x_max, 0.01),\n",
    "                         np.arange(y_min, y_max, 0.01))\n",
    "    \n",
    "    # Z_probabilities = classifier.predict_proba(np.c_[xx.ravel(), yy.ravel()])\n",
    "    # Z = np.max(Z_probabilities, axis=1).reshape(xx.shape)\n",
    "    \n",
    "    Z = classifier.predict(np.c_[xx.ravel(), yy.ravel()])\n",
    "    Z = Z.reshape(xx.shape)\n",
    "    \n",
    "    plt.contourf(xx, yy, Z, alpha=0.7, cmap='coolwarm')\n",
    "    \n",
    "    # plt.scatter(X[:, 0], X[:, 1], color='black')\n",
    "    plt.title(\"One-vs-All\")\n",
    "    plt.xlabel(\"Признак 1\")\n",
    "    plt.ylabel(\"Признак 2\")\n",
    "    # plt.colorbar(label=\"Вероятность\")\n",
    "    plt.legend()\n",
    "    plt.show()\n",
    "\n",
    "\n",
    "def plot_ava_classifier(classifier, X, y):\n",
    "    plt.figure(figsize=(10, 6))\n",
    "    colors = ['blue', 'green', 'red']\n",
    "    for i in np.unique(y):\n",
    "        plt.scatter(X[y == i][:, 0], X[y == i][:, 1], color=colors[i], label=f\"Класс {i}\")\n",
    "    \n",
    "    x_min, x_max = X[:, 0].min() - 1, X[:, 0].max() + 1\n",
    "    y_min, y_max = X[:, 1].min() - 1, X[:, 1].max() + 1\n",
    "    xx, yy = np.meshgrid(np.arange(x_min, x_max, 0.01),\n",
    "                         np.arange(y_min, y_max, 0.01))\n",
    "    \n",
    "    # Z_probabilities = classifier.predict_proba(np.c_[xx.ravel(), yy.ravel()])\n",
    "    # Z = np.max(Z_probabilities, axis=1).reshape(xx.shape)\n",
    "    Z = classifier.predict(np.c_[xx.ravel(), yy.ravel()])\n",
    "    Z = Z.reshape(xx.shape)\n",
    "    \n",
    "    plt.contourf(xx, yy, Z, alpha=0.7, cmap='coolwarm')\n",
    "    \n",
    "    # plt.scatter(X[:, 0], X[:, 1], color='black')\n",
    "    plt.title(\"All-vs-All\")\n",
    "    plt.xlabel(\"Признак 1\")\n",
    "    plt.ylabel(\"Признак 2\")\n",
    "    # plt.colorbar(label=\"Вероятность\")\n",
    "    plt.legend()\n",
    "    plt.show()"
   ]
  },
  {
   "cell_type": "code",
   "execution_count": null,
   "id": "f0107904-7ea6-4c42-9543-dd3226310187",
   "metadata": {
    "tags": []
   },
   "outputs": [],
   "source": [
    "from sklearn.linear_model import LogisticRegression\n",
    "from sklearn.metrics import accuracy_score, confusion_matrix\n",
    "import seaborn as sns\n",
    "\n",
    "class OneVsAllClassifier:\n",
    "    def __init__(self):\n",
    "        self.models = []\n",
    "    \n",
    "    def fit(self, X, y):\n",
    "        n_classes = len(set(y))\n",
    "        self.models = []\n",
    "        \n",
    "        # TODO: Обучите LogisticRegression для каждого класса\n",
    "        \n",
    "    def predict(self, X):\n",
    "        predictions = np.zeros((X.shape[0], len(self.models)))\n",
    "        \n",
    "        # TODO: Рассчитать предсказания для каждой модели\n",
    "        \n",
    "        return np.argmax(predictions, axis=1)\n",
    "\n",
    "X_test = np.array([[1, 2], [4, 5], [7, 8], [2, 3], [5, 6]])\n",
    "y_test = np.array([0, 1, 2, 0, 1])\n",
    "ova_classifier = OneVsAllClassifier()\n",
    "ova_classifier.fit(X_test, y_test)\n",
    "ova_preds = ova_classifier.predict(X_test)\n",
    "\n",
    "assert len(ova_preds) == len(X_test), \"Предсказания должны соответствовать количеству образцов\"\n",
    "assert accuracy_score(y_test, ova_preds) > 0.8, \"Точность должна быть выше 0.8\""
   ]
  },
  {
   "cell_type": "code",
   "execution_count": null,
   "id": "ac8b6718-82b8-47fb-91c0-2302184b860f",
   "metadata": {},
   "outputs": [],
   "source": [
    "plot_ova_classifier(ova_classifier, X_test, y_test)"
   ]
  },
  {
   "cell_type": "code",
   "execution_count": null,
   "id": "97135b54-5ca5-4b78-be9a-72a19efe9359",
   "metadata": {
    "tags": []
   },
   "outputs": [],
   "source": [
    "class AllVsAllClassifier:\n",
    "    def __init__(self):\n",
    "        self.pairwise_models = {}\n",
    "    \n",
    "    def fit(self, X, y):\n",
    "        unique_classes = np.unique(y)\n",
    "        self.pairwise_models = {}\n",
    "        \n",
    "        # TODO: Обучите LogisticRegression для каждой пары классов\n",
    "        \n",
    "    def predict(self, X):\n",
    "        votes = np.zeros((X.shape[0], len(self.pairwise_models)))\n",
    "        \n",
    "        # TODO: Получить предсказания для каждой парной модели\n",
    "        \n",
    "        return np.argmax(votes, axis=1)\n",
    "\n",
    "ava_classifier = AllVsAllClassifier()\n",
    "ava_classifier.fit(X_test, y_test)\n",
    "ava_preds = ava_classifier.predict(X_test)\n",
    "\n",
    "assert len(ava_preds) == len(X_test), \"Предсказания должны соответствовать количеству образцов\"\n",
    "assert accuracy_score(y_test, ava_preds) > 0.8, \"Точность должна быть выше 0.8\""
   ]
  },
  {
   "cell_type": "code",
   "execution_count": null,
   "id": "1ff31c79-8e92-48b0-984a-963e752198ea",
   "metadata": {
    "tags": []
   },
   "outputs": [],
   "source": [
    "plot_ava_classifier(ava_classifier, X_test, y_test)"
   ]
  }
 ],
 "metadata": {
  "kernelspec": {
   "display_name": "DataSphere Kernel",
   "language": "python",
   "name": "python3"
  },
  "language_info": {
   "codemirror_mode": {
    "name": "ipython",
    "version": 3
   },
   "file_extension": ".py",
   "mimetype": "text/x-python",
   "name": "python",
   "nbconvert_exporter": "python",
   "pygments_lexer": "ipython3",
   "version": "3.10.12"
  }
 },
 "nbformat": 4,
 "nbformat_minor": 5
}
