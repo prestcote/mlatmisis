{
 "cells": [
  {
   "cell_type": "markdown",
   "metadata": {},
   "source": [
    "# Импортируем необходимые библиотеки"
   ]
  },
  {
   "cell_type": "code",
   "execution_count": 136,
   "metadata": {
    "execution": {
     "iopub.execute_input": "2025-03-27T19:03:10.070354Z",
     "iopub.status.busy": "2025-03-27T19:03:10.069953Z",
     "iopub.status.idle": "2025-03-27T19:03:10.075897Z",
     "shell.execute_reply": "2025-03-27T19:03:10.074755Z",
     "shell.execute_reply.started": "2025-03-27T19:03:10.070322Z"
    },
    "trusted": true
   },
   "outputs": [],
   "source": [
    "import os\n",
    "import pandas as pd\n",
    "import numpy as np\n",
    "\n",
    "from sklearn.model_selection import StratifiedKFold\n",
    "from sklearn.metrics import roc_auc_score, accuracy_score\n",
    "\n",
    "from catboost import CatBoostClassifier, Pool\n",
    "from xgboost import XGBClassifier\n",
    "import lightgbm as lgb\n",
    "\n",
    "import optuna\n",
    "\n",
    "import warnings\n",
    "warnings.filterwarnings('ignore')"
   ]
  },
  {
   "cell_type": "markdown",
   "metadata": {},
   "source": [
    "# Загрузим данные"
   ]
  },
  {
   "cell_type": "code",
   "execution_count": 137,
   "metadata": {
    "execution": {
     "iopub.execute_input": "2025-03-27T19:03:11.077288Z",
     "iopub.status.busy": "2025-03-27T19:03:11.076821Z",
     "iopub.status.idle": "2025-03-27T19:03:12.232931Z",
     "shell.execute_reply": "2025-03-27T19:03:12.231416Z",
     "shell.execute_reply.started": "2025-03-27T19:03:11.077249Z"
    },
    "trusted": true
   },
   "outputs": [],
   "source": [
    "ROOT_DIR = 'mlcourse-dota2-win-prediction'\n",
    "\n",
    "train_features = pd.read_csv(os.path.join(ROOT_DIR, 'train_features.csv'), index_col='match_id_hash')\n",
    "train_targets = pd.read_csv(os.path.join(ROOT_DIR, 'train_targets.csv'), index_col='match_id_hash')"
   ]
  },
  {
   "cell_type": "code",
   "execution_count": 138,
   "metadata": {
    "execution": {
     "iopub.execute_input": "2025-03-27T19:03:13.149675Z",
     "iopub.status.busy": "2025-03-27T19:03:13.149199Z",
     "iopub.status.idle": "2025-03-27T19:03:13.168917Z",
     "shell.execute_reply": "2025-03-27T19:03:13.167366Z",
     "shell.execute_reply.started": "2025-03-27T19:03:13.149637Z"
    },
    "trusted": true
   },
   "outputs": [
    {
     "data": {
      "text/html": [
       "<div>\n",
       "<style scoped>\n",
       "    .dataframe tbody tr th:only-of-type {\n",
       "        vertical-align: middle;\n",
       "    }\n",
       "\n",
       "    .dataframe tbody tr th {\n",
       "        vertical-align: top;\n",
       "    }\n",
       "\n",
       "    .dataframe thead th {\n",
       "        text-align: right;\n",
       "    }\n",
       "</style>\n",
       "<table border=\"1\" class=\"dataframe\">\n",
       "  <thead>\n",
       "    <tr style=\"text-align: right;\">\n",
       "      <th></th>\n",
       "      <th>game_time</th>\n",
       "      <th>game_mode</th>\n",
       "      <th>lobby_type</th>\n",
       "      <th>objectives_len</th>\n",
       "      <th>chat_len</th>\n",
       "      <th>r1_hero_id</th>\n",
       "      <th>r1_kills</th>\n",
       "      <th>r1_deaths</th>\n",
       "      <th>r1_assists</th>\n",
       "      <th>r1_denies</th>\n",
       "      <th>...</th>\n",
       "      <th>d5_stuns</th>\n",
       "      <th>d5_creeps_stacked</th>\n",
       "      <th>d5_camps_stacked</th>\n",
       "      <th>d5_rune_pickups</th>\n",
       "      <th>d5_firstblood_claimed</th>\n",
       "      <th>d5_teamfight_participation</th>\n",
       "      <th>d5_towers_killed</th>\n",
       "      <th>d5_roshans_killed</th>\n",
       "      <th>d5_obs_placed</th>\n",
       "      <th>d5_sen_placed</th>\n",
       "    </tr>\n",
       "    <tr>\n",
       "      <th>match_id_hash</th>\n",
       "      <th></th>\n",
       "      <th></th>\n",
       "      <th></th>\n",
       "      <th></th>\n",
       "      <th></th>\n",
       "      <th></th>\n",
       "      <th></th>\n",
       "      <th></th>\n",
       "      <th></th>\n",
       "      <th></th>\n",
       "      <th></th>\n",
       "      <th></th>\n",
       "      <th></th>\n",
       "      <th></th>\n",
       "      <th></th>\n",
       "      <th></th>\n",
       "      <th></th>\n",
       "      <th></th>\n",
       "      <th></th>\n",
       "      <th></th>\n",
       "      <th></th>\n",
       "    </tr>\n",
       "  </thead>\n",
       "  <tbody>\n",
       "    <tr>\n",
       "      <th>a400b8f29dece5f4d266f49f1ae2e98a</th>\n",
       "      <td>155</td>\n",
       "      <td>22</td>\n",
       "      <td>7</td>\n",
       "      <td>1</td>\n",
       "      <td>11</td>\n",
       "      <td>11</td>\n",
       "      <td>0</td>\n",
       "      <td>0</td>\n",
       "      <td>0</td>\n",
       "      <td>0</td>\n",
       "      <td>...</td>\n",
       "      <td>0.0</td>\n",
       "      <td>0</td>\n",
       "      <td>0</td>\n",
       "      <td>0</td>\n",
       "      <td>0</td>\n",
       "      <td>0.0</td>\n",
       "      <td>0</td>\n",
       "      <td>0</td>\n",
       "      <td>0</td>\n",
       "      <td>0</td>\n",
       "    </tr>\n",
       "    <tr>\n",
       "      <th>b9c57c450ce74a2af79c9ce96fac144d</th>\n",
       "      <td>658</td>\n",
       "      <td>4</td>\n",
       "      <td>0</td>\n",
       "      <td>3</td>\n",
       "      <td>10</td>\n",
       "      <td>15</td>\n",
       "      <td>7</td>\n",
       "      <td>2</td>\n",
       "      <td>0</td>\n",
       "      <td>7</td>\n",
       "      <td>...</td>\n",
       "      <td>0.0</td>\n",
       "      <td>0</td>\n",
       "      <td>0</td>\n",
       "      <td>0</td>\n",
       "      <td>0</td>\n",
       "      <td>0.0</td>\n",
       "      <td>0</td>\n",
       "      <td>0</td>\n",
       "      <td>0</td>\n",
       "      <td>0</td>\n",
       "    </tr>\n",
       "  </tbody>\n",
       "</table>\n",
       "<p>2 rows × 245 columns</p>\n",
       "</div>"
      ],
      "text/plain": [
       "                                  game_time  game_mode  lobby_type  \\\n",
       "match_id_hash                                                        \n",
       "a400b8f29dece5f4d266f49f1ae2e98a        155         22           7   \n",
       "b9c57c450ce74a2af79c9ce96fac144d        658          4           0   \n",
       "\n",
       "                                  objectives_len  chat_len  r1_hero_id  \\\n",
       "match_id_hash                                                            \n",
       "a400b8f29dece5f4d266f49f1ae2e98a               1        11          11   \n",
       "b9c57c450ce74a2af79c9ce96fac144d               3        10          15   \n",
       "\n",
       "                                  r1_kills  r1_deaths  r1_assists  r1_denies  \\\n",
       "match_id_hash                                                                  \n",
       "a400b8f29dece5f4d266f49f1ae2e98a         0          0           0          0   \n",
       "b9c57c450ce74a2af79c9ce96fac144d         7          2           0          7   \n",
       "\n",
       "                                  ...  d5_stuns  d5_creeps_stacked  \\\n",
       "match_id_hash                     ...                                \n",
       "a400b8f29dece5f4d266f49f1ae2e98a  ...       0.0                  0   \n",
       "b9c57c450ce74a2af79c9ce96fac144d  ...       0.0                  0   \n",
       "\n",
       "                                  d5_camps_stacked  d5_rune_pickups  \\\n",
       "match_id_hash                                                         \n",
       "a400b8f29dece5f4d266f49f1ae2e98a                 0                0   \n",
       "b9c57c450ce74a2af79c9ce96fac144d                 0                0   \n",
       "\n",
       "                                  d5_firstblood_claimed  \\\n",
       "match_id_hash                                             \n",
       "a400b8f29dece5f4d266f49f1ae2e98a                      0   \n",
       "b9c57c450ce74a2af79c9ce96fac144d                      0   \n",
       "\n",
       "                                  d5_teamfight_participation  \\\n",
       "match_id_hash                                                  \n",
       "a400b8f29dece5f4d266f49f1ae2e98a                         0.0   \n",
       "b9c57c450ce74a2af79c9ce96fac144d                         0.0   \n",
       "\n",
       "                                  d5_towers_killed  d5_roshans_killed  \\\n",
       "match_id_hash                                                           \n",
       "a400b8f29dece5f4d266f49f1ae2e98a                 0                  0   \n",
       "b9c57c450ce74a2af79c9ce96fac144d                 0                  0   \n",
       "\n",
       "                                  d5_obs_placed  d5_sen_placed  \n",
       "match_id_hash                                                   \n",
       "a400b8f29dece5f4d266f49f1ae2e98a              0              0  \n",
       "b9c57c450ce74a2af79c9ce96fac144d              0              0  \n",
       "\n",
       "[2 rows x 245 columns]"
      ]
     },
     "execution_count": 138,
     "metadata": {},
     "output_type": "execute_result"
    }
   ],
   "source": [
    "train_features.head(2)"
   ]
  },
  {
   "cell_type": "code",
   "execution_count": 139,
   "metadata": {
    "execution": {
     "iopub.execute_input": "2025-03-27T19:03:13.537707Z",
     "iopub.status.busy": "2025-03-27T19:03:13.537264Z",
     "iopub.status.idle": "2025-03-27T19:03:13.548788Z",
     "shell.execute_reply": "2025-03-27T19:03:13.547261Z",
     "shell.execute_reply.started": "2025-03-27T19:03:13.537674Z"
    },
    "trusted": true
   },
   "outputs": [
    {
     "data": {
      "text/html": [
       "<div>\n",
       "<style scoped>\n",
       "    .dataframe tbody tr th:only-of-type {\n",
       "        vertical-align: middle;\n",
       "    }\n",
       "\n",
       "    .dataframe tbody tr th {\n",
       "        vertical-align: top;\n",
       "    }\n",
       "\n",
       "    .dataframe thead th {\n",
       "        text-align: right;\n",
       "    }\n",
       "</style>\n",
       "<table border=\"1\" class=\"dataframe\">\n",
       "  <thead>\n",
       "    <tr style=\"text-align: right;\">\n",
       "      <th></th>\n",
       "      <th>game_time</th>\n",
       "      <th>radiant_win</th>\n",
       "      <th>duration</th>\n",
       "      <th>time_remaining</th>\n",
       "      <th>next_roshan_team</th>\n",
       "    </tr>\n",
       "    <tr>\n",
       "      <th>match_id_hash</th>\n",
       "      <th></th>\n",
       "      <th></th>\n",
       "      <th></th>\n",
       "      <th></th>\n",
       "      <th></th>\n",
       "    </tr>\n",
       "  </thead>\n",
       "  <tbody>\n",
       "    <tr>\n",
       "      <th>a400b8f29dece5f4d266f49f1ae2e98a</th>\n",
       "      <td>155</td>\n",
       "      <td>False</td>\n",
       "      <td>992</td>\n",
       "      <td>837</td>\n",
       "      <td>NaN</td>\n",
       "    </tr>\n",
       "    <tr>\n",
       "      <th>b9c57c450ce74a2af79c9ce96fac144d</th>\n",
       "      <td>658</td>\n",
       "      <td>True</td>\n",
       "      <td>1154</td>\n",
       "      <td>496</td>\n",
       "      <td>NaN</td>\n",
       "    </tr>\n",
       "  </tbody>\n",
       "</table>\n",
       "</div>"
      ],
      "text/plain": [
       "                                  game_time  radiant_win  duration  \\\n",
       "match_id_hash                                                        \n",
       "a400b8f29dece5f4d266f49f1ae2e98a        155        False       992   \n",
       "b9c57c450ce74a2af79c9ce96fac144d        658         True      1154   \n",
       "\n",
       "                                  time_remaining next_roshan_team  \n",
       "match_id_hash                                                      \n",
       "a400b8f29dece5f4d266f49f1ae2e98a             837              NaN  \n",
       "b9c57c450ce74a2af79c9ce96fac144d             496              NaN  "
      ]
     },
     "execution_count": 139,
     "metadata": {},
     "output_type": "execute_result"
    }
   ],
   "source": [
    "train_targets.head(2)"
   ]
  },
  {
   "cell_type": "code",
   "execution_count": 140,
   "metadata": {
    "execution": {
     "iopub.execute_input": "2025-03-27T19:03:15.210004Z",
     "iopub.status.busy": "2025-03-27T19:03:15.209628Z",
     "iopub.status.idle": "2025-03-27T19:03:15.215983Z",
     "shell.execute_reply": "2025-03-27T19:03:15.214279Z",
     "shell.execute_reply.started": "2025-03-27T19:03:15.209975Z"
    },
    "trusted": true
   },
   "outputs": [],
   "source": [
    "X = train_features\n",
    "y = train_targets['radiant_win']"
   ]
  },
  {
   "cell_type": "markdown",
   "metadata": {},
   "source": [
    "# EDA (5 баллов)"
   ]
  },
  {
   "cell_type": "code",
   "execution_count": 141,
   "metadata": {
    "execution": {
     "iopub.execute_input": "2025-03-27T19:03:16.641318Z",
     "iopub.status.busy": "2025-03-27T19:03:16.640954Z",
     "iopub.status.idle": "2025-03-27T19:03:16.889076Z",
     "shell.execute_reply": "2025-03-27T19:03:16.887856Z",
     "shell.execute_reply.started": "2025-03-27T19:03:16.641289Z"
    },
    "trusted": true
   },
   "outputs": [
    {
     "data": {
      "image/png": "[encoded data removed]",
      "text/plain": [
       "<Figure size 640x480 with 1 Axes>"
      ]
     },
     "metadata": {},
     "output_type": "display_data"
    }
   ],
   "source": [
    "# тут EDA, который вы считаете необходимым, например, изучим количество игр в разных режимах"
   ]
  },
  {
   "cell_type": "code",
   "execution_count": 142,
   "metadata": {
    "execution": {
     "iopub.execute_input": "2025-03-27T19:03:17.242473Z",
     "iopub.status.busy": "2025-03-27T19:03:17.242062Z",
     "iopub.status.idle": "2025-03-27T19:03:17.485073Z",
     "shell.execute_reply": "2025-03-27T19:03:17.483855Z",
     "shell.execute_reply.started": "2025-03-27T19:03:17.242427Z"
    },
    "trusted": true
   },
   "outputs": [
    {
     "data": {
      "image/png": "[encoded data removed]",
      "text/plain": [
       "<Figure size 640x480 with 1 Axes>"
      ]
     },
     "metadata": {},
     "output_type": "display_data"
    }
   ],
   "source": [
    "# посмотрим распределение таргета"
   ]
  },
  {
   "cell_type": "code",
   "execution_count": 143,
   "metadata": {
    "execution": {
     "iopub.execute_input": "2025-03-27T19:03:17.897272Z",
     "iopub.status.busy": "2025-03-27T19:03:17.896897Z",
     "iopub.status.idle": "2025-03-27T19:03:17.903571Z",
     "shell.execute_reply": "2025-03-27T19:03:17.902368Z",
     "shell.execute_reply.started": "2025-03-27T19:03:17.897243Z"
    },
    "trusted": true
   },
   "outputs": [
    {
     "data": {
      "text/plain": [
       "Ellipsis"
      ]
     },
     "execution_count": 143,
     "metadata": {},
     "output_type": "execute_result"
    }
   ],
   "source": [
    "... # далее ваш EDA - все, что вы считаете необходимым"
   ]
  },
  {
   "cell_type": "markdown",
   "metadata": {},
   "source": [
    "# Обучим CatBoost на чистых данных и посмотрим на метрики"
   ]
  },
  {
   "cell_type": "code",
   "execution_count": 144,
   "metadata": {
    "execution": {
     "iopub.execute_input": "2025-03-27T19:03:19.966512Z",
     "iopub.status.busy": "2025-03-27T19:03:19.966140Z",
     "iopub.status.idle": "2025-03-27T19:05:30.415712Z",
     "shell.execute_reply": "2025-03-27T19:05:30.414409Z",
     "shell.execute_reply.started": "2025-03-27T19:03:19.966480Z"
    },
    "trusted": true
   },
   "outputs": [
    {
     "name": "stdout",
     "output_type": "stream",
     "text": [
      "FOLD 0, Validation ROC-AUC score: 0.8187, Accuracy score: 0.7287\n",
      "FOLD 1, Validation ROC-AUC score: 0.8029, Accuracy score: 0.7117\n",
      "FOLD 2, Validation ROC-AUC score: 0.8007, Accuracy score: 0.7157\n",
      "FOLD 3, Validation ROC-AUC score: 0.8047, Accuracy score: 0.7176\n",
      "FOLD 4, Validation ROC-AUC score: 0.8060, Accuracy score: 0.7146\n",
      "\n",
      "Overall CAT OOF ROC-AUC: 0.8066, OOF Accuracy: 0.7176\n"
     ]
    }
   ],
   "source": [
    "skf = StratifiedKFold(n_splits=5, shuffle=True, random_state=69)\n",
    "oof_cat = np.zeros(len(X))\n",
    "\n",
    "for fold, (train_idx, valid_idx) in enumerate(skf.split(X, y)):\n",
    "    X_train, X_valid = X.iloc[train_idx], X.iloc[valid_idx]\n",
    "    y_train, y_valid = y.iloc[train_idx], y.iloc[valid_idx]\n",
    "\n",
    "    model = CatBoostClassifier(\n",
    "        early_stopping_rounds=100,\n",
    "        random_state=69,\n",
    "        verbose=0,\n",
    "        thread_count=4\n",
    "    )\n",
    "    model.fit(X_train, y_train, eval_set=(X_valid, y_valid))\n",
    "\n",
    "    y_pred = model.predict_proba(X_valid)[:, 1]\n",
    "    \n",
    "    fold_roc_auc = roc_auc_score(y_valid, y_pred)\n",
    "    fold_acc = accuracy_score(y_valid, y_pred > 0.5)\n",
    "    print(f'FOLD {fold}, Validation ROC-AUC score: {fold_roc_auc:.4f}, Accuracy score: {fold_acc:.4f}')\n",
    "\n",
    "    oof_cat[valid_idx] = y_pred\n",
    "\n",
    "oof_roc_auc = roc_auc_score(y, oof_cat)\n",
    "oof_accuracy = accuracy_score(y, oof_cat > 0.5)\n",
    "print(f'\\nOverall CAT OOF ROC-AUC: {oof_roc_auc:.4f}, OOF Accuracy: {oof_accuracy:.4f}')"
   ]
  },
  {
   "cell_type": "markdown",
   "metadata": {},
   "source": [
    "# Генерация фичей (5 баллов)\n",
    "\n",
    "Генерация фичей является одной из важнейших частей построения пайплайна машинного обучения. В данной части вам предлагается придумать и сгенерировать полезные фичи для модели. Важно: они должны повысить метрику. В качестве примера сгенерированы статистические фичи. Вы можете не использовать их, если не считаете их нужными."
   ]
  },
  {
   "cell_type": "code",
   "execution_count": 145,
   "metadata": {
    "execution": {
     "iopub.execute_input": "2025-03-27T19:05:30.417329Z",
     "iopub.status.busy": "2025-03-27T19:05:30.416998Z",
     "iopub.status.idle": "2025-03-27T19:05:30.426418Z",
     "shell.execute_reply": "2025-03-27T19:05:30.425170Z",
     "shell.execute_reply.started": "2025-03-27T19:05:30.417301Z"
    },
    "trusted": true
   },
   "outputs": [],
   "source": [
    "def fe(data):\n",
    "    for c in [\n",
    "        'kills', 'deaths', 'assists', 'denies', 'gold', 'lh', 'xp', \n",
    "        'health', 'max_health', 'max_mana', 'level', 'x', 'y', \n",
    "        'stuns', 'creeps_stacked', 'camps_stacked', 'rune_pickups',\n",
    "        'firstblood_claimed', 'teamfight_participation', 'towers_killed', \n",
    "        'roshans_killed', 'obs_placed', 'sen_placed'\n",
    "    ]:\n",
    "        r_columns = [f'r{i}_{c}' for i in range(1, 6)]\n",
    "        d_columns = [f'd{i}_{c}' for i in range(1, 6)]\n",
    "\n",
    "        eps = 1e-8 # избегаем деления на 0\n",
    "        \n",
    "        data['r_total_' + c] = data[r_columns].sum(1)\n",
    "        data['d_total_' + c] = data[d_columns].sum(1)\n",
    "        data['total_' + c + '_ratio'] = data['r_total_' + c] / (data['d_total_' + c] + eps)\n",
    "        \n",
    "        # попробуйте другие статистики, например среднее или стандартное отклонение\n",
    "        # более того, если считаете, что фичи, основанные на статистиках не нужны, можете их не использовать - они приведены в качестве примера\n",
    "    ...\n",
    "\n",
    "    return data"
   ]
  },
  {
   "cell_type": "markdown",
   "metadata": {},
   "source": [
    "# Теперь обучим CatBoost на данных с новыми фичами и посмотрим на метрики"
   ]
  },
  {
   "cell_type": "code",
   "execution_count": 146,
   "metadata": {
    "execution": {
     "iopub.execute_input": "2025-03-27T19:05:30.428885Z",
     "iopub.status.busy": "2025-03-27T19:05:30.428477Z",
     "iopub.status.idle": "2025-03-27T19:07:35.323632Z",
     "shell.execute_reply": "2025-03-27T19:07:35.322437Z",
     "shell.execute_reply.started": "2025-03-27T19:05:30.428854Z"
    },
    "trusted": true
   },
   "outputs": [
    {
     "name": "stdout",
     "output_type": "stream",
     "text": [
      "FOLD 0, Validation ROC-AUC score: 0.8368, Accuracy score: 0.7456\n",
      "FOLD 1, Validation ROC-AUC score: 0.8174, Accuracy score: 0.7285\n",
      "FOLD 2, Validation ROC-AUC score: 0.8210, Accuracy score: 0.7325\n",
      "FOLD 3, Validation ROC-AUC score: 0.8222, Accuracy score: 0.7341\n",
      "FOLD 4, Validation ROC-AUC score: 0.8259, Accuracy score: 0.7370\n",
      "\n",
      "Overall OOF ROC-AUC: 0.8246, OOF Accuracy: 0.7355\n"
     ]
    }
   ],
   "source": [
    "skf = StratifiedKFold(n_splits=5, shuffle=True, random_state=69)\n",
    "oof_cat = np.zeros(len(X))\n",
    "\n",
    "for fold, (train_idx, valid_idx) in enumerate(skf.split(X, y)):\n",
    "    X_train, X_valid = X.iloc[train_idx], X.iloc[valid_idx]\n",
    "    y_train, y_valid = y.iloc[train_idx], y.iloc[valid_idx]\n",
    "\n",
    "    # чтобы в тест не утекли глобальные статистики трейна, сначала сплитим, потом генерируем фичи\n",
    "    X_train = fe(X_train)\n",
    "    X_valid = fe(X_valid)\n",
    "\n",
    "    model = CatBoostClassifier(\n",
    "        early_stopping_rounds=100,\n",
    "        random_state=69,\n",
    "        verbose=0,\n",
    "        thread_count=4\n",
    "    )\n",
    "    model.fit(X_train, y_train, eval_set=(X_valid, y_valid))\n",
    "\n",
    "    y_pred = model.predict_proba(X_valid)[:, 1]\n",
    "    \n",
    "    fold_roc_auc = roc_auc_score(y_valid, y_pred)\n",
    "    fold_acc = accuracy_score(y_valid, y_pred > 0.5)\n",
    "    print(f'FOLD {fold}, Validation ROC-AUC score: {fold_roc_auc:.4f}, Accuracy score: {fold_acc:.4f}')\n",
    "\n",
    "    oof_cat[valid_idx] = y_pred\n",
    "\n",
    "oof_roc_auc = roc_auc_score(y, oof_cat)\n",
    "oof_accuracy = accuracy_score(y, oof_cat > 0.5)\n",
    "print(f'\\nOverall OOF ROC-AUC: {oof_roc_auc:.4f}, OOF Accuracy: {oof_accuracy:.4f}')"
   ]
  },
  {
   "cell_type": "markdown",
   "metadata": {},
   "source": [
    "# Обработка категориальных фичей средствами CatBoost\n",
    "\n",
    "Попробуем подать категориальные фичи в модель через cat_features."
   ]
  },
  {
   "cell_type": "code",
   "execution_count": 147,
   "metadata": {
    "execution": {
     "iopub.execute_input": "2025-03-27T19:07:35.325619Z",
     "iopub.status.busy": "2025-03-27T19:07:35.325334Z",
     "iopub.status.idle": "2025-03-27T19:07:35.330087Z",
     "shell.execute_reply": "2025-03-27T19:07:35.328802Z",
     "shell.execute_reply.started": "2025-03-27T19:07:35.325596Z"
    },
    "trusted": true
   },
   "outputs": [],
   "source": [
    "# выделим очевидные категориальные фичи - вы можете попробовать выделить больше / сгенерировать новые или же вовсе отказаться от этой идеи\n",
    "cats = ['game_mode', 'lobby_type']"
   ]
  },
  {
   "cell_type": "code",
   "execution_count": 148,
   "metadata": {
    "execution": {
     "iopub.execute_input": "2025-03-27T19:07:35.331499Z",
     "iopub.status.busy": "2025-03-27T19:07:35.331151Z",
     "iopub.status.idle": "2025-03-27T19:10:11.334265Z",
     "shell.execute_reply": "2025-03-27T19:10:11.332596Z",
     "shell.execute_reply.started": "2025-03-27T19:07:35.331471Z"
    },
    "trusted": true
   },
   "outputs": [
    {
     "name": "stdout",
     "output_type": "stream",
     "text": [
      "FOLD 0, Validation ROC-AUC score: 0.8392, Accuracy score: 0.7485\n",
      "FOLD 1, Validation ROC-AUC score: 0.8187, Accuracy score: 0.7265\n",
      "FOLD 2, Validation ROC-AUC score: 0.8210, Accuracy score: 0.7298\n",
      "FOLD 3, Validation ROC-AUC score: 0.8217, Accuracy score: 0.7327\n",
      "FOLD 4, Validation ROC-AUC score: 0.8267, Accuracy score: 0.7374\n",
      "\n",
      "Overall CAT w/ FE OOF ROC-AUC: 0.8254, OOF Accuracy: 0.7350\n"
     ]
    }
   ],
   "source": [
    "skf = StratifiedKFold(n_splits=5, shuffle=True, random_state=69)\n",
    "oof_cat = np.zeros(len(X))\n",
    "\n",
    "for fold, (train_idx, valid_idx) in enumerate(skf.split(X, y)):\n",
    "    X_train, X_valid = X.iloc[train_idx], X.iloc[valid_idx]\n",
    "    y_train, y_valid = y.iloc[train_idx], y.iloc[valid_idx]\n",
    "\n",
    "    # чтобы в тест не утекли глобальные статистики трейна, сначала сплитим, потом генерируем фичи\n",
    "    X_train = fe(X_train)\n",
    "    X_valid = fe(X_valid)\n",
    "\n",
    "    model = CatBoostClassifier(\n",
    "        cat_features=cats,\n",
    "        early_stopping_rounds=100,\n",
    "        random_state=69,\n",
    "        verbose=0,\n",
    "        thread_count=4\n",
    "    )\n",
    "    model.fit(X_train, y_train, eval_set=(X_valid, y_valid))\n",
    "\n",
    "    y_pred = model.predict_proba(X_valid)[:, 1]\n",
    "    \n",
    "    fold_roc_auc = roc_auc_score(y_valid, y_pred)\n",
    "    fold_acc = accuracy_score(y_valid, y_pred > 0.5)\n",
    "    print(f'FOLD {fold}, Validation ROC-AUC score: {fold_roc_auc:.4f}, Accuracy score: {fold_acc:.4f}')\n",
    "\n",
    "    oof_cat[valid_idx] = y_pred\n",
    "\n",
    "oof_roc_auc = roc_auc_score(y, oof_cat)\n",
    "oof_accuracy = accuracy_score(y, oof_cat > 0.5)\n",
    "print(f'\\nOverall CAT w/ FE OOF ROC-AUC: {oof_roc_auc:.4f}, OOF Accuracy: {oof_accuracy:.4f}')"
   ]
  },
  {
   "cell_type": "markdown",
   "metadata": {},
   "source": [
    "# Отбор фичей (5 баллов)\n",
    "\n",
    "Возможно, на этапе генерации фичей вы решили прибегнуть к автоматической генерации (если нет, то советую обратить внимание на библиотеку OpenFE), или же просто генерировали все подряд. Также, возможно, исходные данные содержали бесполезные и шумные фичи.\n",
    "\n",
    "Вам предлагается исследовать это и оставить только те фичи, которые вы считаете важными.\n",
    "\n",
    "Идеи для отбора фичей: \n",
    "- по feature importance\n",
    "- по permutation importance\n",
    "- по shap values\n",
    "- recursive feature elimination\n",
    "- sequential feature selection\n",
    "\n",
    "Также обратите внимание на гайд от catboost: https://github.com/catboost/catboost/blob/master/catboost/tutorials/feature_selection/select_features_tutorial.ipynb"
   ]
  },
  {
   "cell_type": "code",
   "execution_count": 149,
   "metadata": {
    "execution": {
     "iopub.execute_input": "2025-03-27T19:10:11.335892Z",
     "iopub.status.busy": "2025-03-27T19:10:11.335571Z",
     "iopub.status.idle": "2025-03-27T19:12:40.844486Z",
     "shell.execute_reply": "2025-03-27T19:12:40.843335Z",
     "shell.execute_reply.started": "2025-03-27T19:10:11.335864Z"
    },
    "scrolled": true,
    "trusted": true
   },
   "outputs": [
    {
     "name": "stdout",
     "output_type": "stream",
     "text": [
      "Learning rate set to 0.073263\n",
      "Step #1 out of 1\n",
      "\n",
      "bestTest = 0.4993145893\n",
      "bestIteration = 367\n",
      "\n",
      "Shrink model to first 368 iterations.\n",
      "Feature #247 eliminated\n",
      "Feature #111 eliminated\n",
      "Feature #354 eliminated\n",
      "Feature #18 eliminated\n",
      "Feature #394 eliminated\n",
      "Feature #298 eliminated\n",
      "Feature #137 eliminated\n",
      "Feature #13 eliminated\n",
      "Feature #205 eliminated\n",
      "Feature #234 eliminated\n",
      "Feature #29 eliminated\n",
      "Feature #277 eliminated\n",
      "Feature #130 eliminated\n",
      "Feature #11 eliminated\n",
      "Feature #155 eliminated\n",
      "Feature #226 eliminated\n",
      "Feature #253 eliminated\n",
      "Feature #361 eliminated\n",
      "Feature #201 eliminated\n",
      "Feature #206 eliminated\n",
      "Feature #202 eliminated\n",
      "Feature #42 eliminated\n",
      "Feature #433 eliminated\n",
      "Feature #89 eliminated\n",
      "Feature #212 eliminated\n",
      "Feature #334 eliminated\n",
      "Feature #312 eliminated\n",
      "Feature #263 eliminated\n",
      "Feature #199 eliminated\n",
      "Feature #449 eliminated\n",
      "Feature #93 eliminated\n",
      "Feature #291 eliminated\n",
      "Feature #349 eliminated\n",
      "Feature #41 eliminated\n",
      "Feature #90 eliminated\n",
      "Feature #159 eliminated\n",
      "Feature #348 eliminated\n",
      "Feature #322 eliminated\n",
      "Feature #391 eliminated\n",
      "Feature #69 eliminated\n",
      "Feature #182 eliminated\n",
      "Feature #133 eliminated\n",
      "Feature #299 eliminated\n",
      "Feature #230 eliminated\n",
      "Feature #91 eliminated\n",
      "Feature #40 eliminated\n",
      "Feature #309 eliminated\n",
      "Feature #118 eliminated\n",
      "Feature #227 eliminated\n",
      "Feature #207 eliminated\n",
      "Feature #24 eliminated\n",
      "Feature #151 eliminated\n",
      "Feature #68 eliminated\n",
      "Feature #313 eliminated\n",
      "Feature #415 eliminated\n",
      "Feature #294 eliminated\n",
      "Feature #92 eliminated\n",
      "Feature #126 eliminated\n",
      "Feature #140 eliminated\n",
      "Feature #136 eliminated\n",
      "Feature #285 eliminated\n",
      "Feature #135 eliminated\n",
      "Feature #83 eliminated\n",
      "Feature #225 eliminated\n",
      "Feature #178 eliminated\n",
      "Feature #168 eliminated\n",
      "Feature #302 eliminated\n",
      "Feature #384 eliminated\n",
      "Feature #241 eliminated\n",
      "Feature #333 eliminated\n",
      "Feature #258 eliminated\n",
      "Feature #35 eliminated\n",
      "Feature #99 eliminated\n",
      "Feature #132 eliminated\n",
      "Feature #352 eliminated\n",
      "Feature #393 eliminated\n",
      "Feature #358 eliminated\n",
      "Feature #238 eliminated\n",
      "Feature #369 eliminated\n",
      "Feature #213 eliminated\n",
      "Feature #45 eliminated\n",
      "Feature #320 eliminated\n",
      "Feature #443 eliminated\n",
      "Feature #160 eliminated\n",
      "Feature #32 eliminated\n",
      "Feature #378 eliminated\n",
      "Feature #368 eliminated\n",
      "Feature #323 eliminated\n",
      "Feature #266 eliminated\n",
      "Feature #36 eliminated\n",
      "Feature #432 eliminated\n",
      "Feature #78 eliminated\n",
      "Feature #396 eliminated\n",
      "Feature #259 eliminated\n",
      "Feature #107 eliminated\n",
      "Feature #114 eliminated\n",
      "Feature #20 eliminated\n",
      "Feature #404 eliminated\n",
      "Feature #115 eliminated\n",
      "Feature #100 eliminated\n",
      "Feature #51 eliminated\n",
      "Feature #102 eliminated\n",
      "Feature #245 eliminated\n",
      "Feature #232 eliminated\n",
      "Feature #382 eliminated\n",
      "Feature #43 eliminated\n",
      "Feature #96 eliminated\n",
      "Feature #81 eliminated\n",
      "Feature #367 eliminated\n",
      "Feature #72 eliminated\n",
      "Feature #444 eliminated\n",
      "Feature #237 eliminated\n",
      "Feature #243 eliminated\n",
      "Feature #193 eliminated\n",
      "Feature #406 eliminated\n",
      "Feature #370 eliminated\n",
      "Feature #105 eliminated\n",
      "Feature #14 eliminated\n",
      "Feature #85 eliminated\n",
      "Feature #390 eliminated\n",
      "Feature #172 eliminated\n",
      "Feature #375 eliminated\n",
      "Feature #434 eliminated\n",
      "Feature #445 eliminated\n",
      "Feature #426 eliminated\n",
      "Feature #219 eliminated\n",
      "Feature #154 eliminated\n",
      "Feature #184 eliminated\n",
      "Feature #269 eliminated\n",
      "Feature #163 eliminated\n",
      "Feature #169 eliminated\n",
      "Feature #191 eliminated\n",
      "Feature #437 eliminated\n",
      "Feature #379 eliminated\n",
      "Feature #381 eliminated\n",
      "Feature #67 eliminated\n",
      "Feature #54 eliminated\n",
      "Feature #407 eliminated\n",
      "Feature #239 eliminated\n",
      "Feature #27 eliminated\n",
      "Feature #364 eliminated\n",
      "Feature #387 eliminated\n",
      "Feature #236 eliminated\n",
      "Feature #80 eliminated\n",
      "Feature #176 eliminated\n",
      "Feature #217 eliminated\n",
      "Feature #104 eliminated\n",
      "Feature #19 eliminated\n",
      "Feature #374 eliminated\n",
      "Feature #152 eliminated\n",
      "Feature #376 eliminated\n",
      "Feature #22 eliminated\n"
     ]
    }
   ],
   "source": [
    "# бейзлайн: используем встроенные инструменты catboost - вы можете работать с ним или обратиться к другим инструментам\n",
    "# здесь нужно быть аккуратным, ведь удаление фичей всегда может привести к падению скора \n",
    "# необходимо подобрать грамотный подход, а это можно сделать только путем экспериментов\n",
    "\n",
    "model = CatBoostClassifier(\n",
    "    cat_features=cats,\n",
    "    random_state=69,\n",
    "    verbose=0,\n",
    "    thread_count=4\n",
    ")\n",
    "\n",
    "X_train, X_test, y_train, y_test = train_test_split(X, y, test_size=0.25, random_state=69)\n",
    "\n",
    "X_train = fe(X_train)\n",
    "X_test = fe(X_test)\n",
    "\n",
    "train_pool = Pool(X_train, y_train, cat_features=cats)\n",
    "test_pool = Pool(X_test, y_test, cat_features=cats)\n",
    "\n",
    "summary = model.select_features(\n",
    "    train_pool,\n",
    "    eval_set=test_pool,\n",
    "    features_for_select=list(range(X_train.shape[1])),\n",
    "    num_features_to_select=300, # количество фичей, которое хотим отобрать - один из самых важных параметров\n",
    "    algorithm=None, # точно стоит поиграться с выбором алгоритма - важный параметр !!!\n",
    "    steps=None, # количество шагов\n",
    "    shap_calc_type=None,\n",
    "    train_final_model=False,\n",
    "    verbose=None,\n",
    "    logging_level=None,\n",
    "    plot=False\n",
    ")\n",
    "\n",
    "selected_features = summary['selected_features'] # отобранные фичи"
   ]
  },
  {
   "cell_type": "markdown",
   "metadata": {},
   "source": [
    "# Обучим модель на отобранных и фичах и посмотрим на метрики"
   ]
  },
  {
   "cell_type": "code",
   "execution_count": 150,
   "metadata": {
    "execution": {
     "iopub.execute_input": "2025-03-27T19:12:40.845824Z",
     "iopub.status.busy": "2025-03-27T19:12:40.845519Z",
     "iopub.status.idle": "2025-03-27T19:14:42.957253Z",
     "shell.execute_reply": "2025-03-27T19:14:42.956224Z",
     "shell.execute_reply.started": "2025-03-27T19:12:40.845796Z"
    },
    "trusted": true
   },
   "outputs": [
    {
     "name": "stdout",
     "output_type": "stream",
     "text": [
      "FOLD 0, Validation ROC-AUC score: 0.8395, Accuracy score: 0.7480\n",
      "FOLD 1, Validation ROC-AUC score: 0.8198, Accuracy score: 0.7312\n",
      "FOLD 2, Validation ROC-AUC score: 0.8239, Accuracy score: 0.7347\n",
      "FOLD 3, Validation ROC-AUC score: 0.8230, Accuracy score: 0.7360\n",
      "FOLD 4, Validation ROC-AUC score: 0.8263, Accuracy score: 0.7372\n",
      "\n",
      "Overall CAT w/ FE&FS OOF ROC-AUC: 0.8264, OOF Accuracy: 0.7374\n"
     ]
    }
   ],
   "source": [
    "skf = StratifiedKFold(n_splits=5, shuffle=True, random_state=69)\n",
    "oof_cat = np.zeros(len(X))\n",
    "\n",
    "for fold, (train_idx, valid_idx) in enumerate(skf.split(X, y)):\n",
    "    X_train, X_valid = X.iloc[train_idx], X.iloc[valid_idx]\n",
    "    y_train, y_valid = y.iloc[train_idx], y.iloc[valid_idx]\n",
    "\n",
    "    # чтобы в тест не утекли глобальные статистики трейна, сначала сплитим, потом генерируем фичи\n",
    "    X_train = fe(X_train).iloc[:, selected_features]\n",
    "    X_valid = fe(X_valid).iloc[:, selected_features]\n",
    "\n",
    "    model = CatBoostClassifier(\n",
    "        cat_features=cats,\n",
    "        early_stopping_rounds=100,\n",
    "        random_state=69,\n",
    "        verbose=0,\n",
    "        thread_count=4\n",
    "    )\n",
    "    model.fit(X_train, y_train, eval_set=(X_valid, y_valid))\n",
    "\n",
    "    y_pred = model.predict_proba(X_valid)[:, 1]\n",
    "    \n",
    "    fold_roc_auc = roc_auc_score(y_valid, y_pred)\n",
    "    fold_acc = accuracy_score(y_valid, y_pred > 0.5)\n",
    "    print(f'FOLD {fold}, Validation ROC-AUC score: {fold_roc_auc:.4f}, Accuracy score: {fold_acc:.4f}')\n",
    "\n",
    "    oof_cat[valid_idx] = y_pred\n",
    "\n",
    "oof_roc_auc = roc_auc_score(y, oof_cat)\n",
    "oof_accuracy = accuracy_score(y, oof_cat > 0.5)\n",
    "print(f'\\nOverall CAT w/ FE&FS OOF ROC-AUC: {oof_roc_auc:.4f}, OOF Accuracy: {oof_accuracy:.4f}')"
   ]
  },
  {
   "cell_type": "markdown",
   "metadata": {},
   "source": [
    "# Блендинг: добавим XGBoost и LightGBM"
   ]
  },
  {
   "cell_type": "code",
   "execution_count": 151,
   "metadata": {
    "execution": {
     "iopub.execute_input": "2025-03-27T19:14:42.960080Z",
     "iopub.status.busy": "2025-03-27T19:14:42.959766Z",
     "iopub.status.idle": "2025-03-27T19:15:26.885055Z",
     "shell.execute_reply": "2025-03-27T19:15:26.883879Z",
     "shell.execute_reply.started": "2025-03-27T19:14:42.960051Z"
    },
    "trusted": true
   },
   "outputs": [
    {
     "name": "stdout",
     "output_type": "stream",
     "text": [
      "FOLD 0, Validation ROC-AUC score: 0.8397, Accuracy score: 0.7472\n",
      "FOLD 1, Validation ROC-AUC score: 0.8204, Accuracy score: 0.7332\n",
      "FOLD 2, Validation ROC-AUC score: 0.8215, Accuracy score: 0.7302\n",
      "FOLD 3, Validation ROC-AUC score: 0.8216, Accuracy score: 0.7330\n",
      "FOLD 4, Validation ROC-AUC score: 0.8263, Accuracy score: 0.7384\n",
      "\n",
      "Overall LGB w/ FE&FS OOF ROC-AUC: 0.8258, OOF Accuracy: 0.7364\n"
     ]
    }
   ],
   "source": [
    "skf = StratifiedKFold(n_splits=5, shuffle=True, random_state=69)\n",
    "oof_lgb = np.zeros(len(X))\n",
    "\n",
    "for fold, (train_idx, valid_idx) in enumerate(skf.split(X, y)):\n",
    "    X_train, X_valid = X.iloc[train_idx], X.iloc[valid_idx]\n",
    "    y_train, y_valid = y.iloc[train_idx], y.iloc[valid_idx]\n",
    "\n",
    "    # чтобы в тест не утекли глобальные статистики трейна, сначала сплитим, потом генерируем фичи\n",
    "    X_train = fe(X_train).iloc[:, selected_features]\n",
    "    X_valid = fe(X_valid).iloc[:, selected_features]\n",
    "\n",
    "    # lgbm требует указания категориальных фичей как 'category'\n",
    "    for col in cats:\n",
    "        X_train[col] = X_train[col].astype('category')\n",
    "        X_valid[col] = X_valid[col].astype('category')\n",
    "\n",
    "    model = lgb.LGBMClassifier(\n",
    "        n_estimators=1000,\n",
    "        learning_rate=0.05,\n",
    "        max_depth=6,\n",
    "        subsample=0.8,\n",
    "        colsample_bytree=0.8,\n",
    "        random_state=69,\n",
    "        n_jobs=4,\n",
    "        metric='auc',\n",
    "        early_stopping_round=100,\n",
    "        verbosity=-1\n",
    "    )\n",
    "    model.fit(\n",
    "        X_train, y_train,\n",
    "        eval_set=[(X_valid, y_valid)],\n",
    "        categorical_feature=cats\n",
    "    )\n",
    "\n",
    "    y_pred = model.predict_proba(X_valid)[:, 1]\n",
    "    \n",
    "    fold_roc_auc = roc_auc_score(y_valid, y_pred)\n",
    "    fold_acc = accuracy_score(y_valid, y_pred > 0.5)\n",
    "    print(f'FOLD {fold}, Validation ROC-AUC score: {fold_roc_auc:.4f}, Accuracy score: {fold_acc:.4f}')\n",
    "\n",
    "    oof_lgb[valid_idx] = y_pred\n",
    "\n",
    "oof_roc_auc = roc_auc_score(y, oof_lgb)\n",
    "oof_accuracy = accuracy_score(y, oof_lgb > 0.5)\n",
    "print(f'\\nOverall LGB w/ FE&FS OOF ROC-AUC: {oof_roc_auc:.4f}, OOF Accuracy: {oof_accuracy:.4f}')"
   ]
  },
  {
   "cell_type": "code",
   "execution_count": 152,
   "metadata": {
    "execution": {
     "iopub.execute_input": "2025-03-27T19:15:26.886717Z",
     "iopub.status.busy": "2025-03-27T19:15:26.886394Z",
     "iopub.status.idle": "2025-03-27T19:17:08.615272Z",
     "shell.execute_reply": "2025-03-27T19:17:08.614041Z",
     "shell.execute_reply.started": "2025-03-27T19:15:26.886687Z"
    },
    "trusted": true
   },
   "outputs": [
    {
     "name": "stdout",
     "output_type": "stream",
     "text": [
      "FOLD 0, Validation ROC-AUC score: 0.8373, Accuracy score: 0.7481\n",
      "FOLD 1, Validation ROC-AUC score: 0.8197, Accuracy score: 0.7312\n",
      "FOLD 2, Validation ROC-AUC score: 0.8220, Accuracy score: 0.7313\n",
      "FOLD 3, Validation ROC-AUC score: 0.8215, Accuracy score: 0.7308\n",
      "FOLD 4, Validation ROC-AUC score: 0.8264, Accuracy score: 0.7391\n",
      "\n",
      "Overall XGB w/ FE&FS OOF ROC-AUC: 0.8252, OOF Accuracy: 0.7361\n"
     ]
    }
   ],
   "source": [
    "skf = StratifiedKFold(n_splits=5, shuffle=True, random_state=69)\n",
    "oof_xgb = np.zeros(len(X))\n",
    "\n",
    "for fold, (train_idx, valid_idx) in enumerate(skf.split(X, y)):\n",
    "    X_train, X_valid = X.iloc[train_idx], X.iloc[valid_idx]\n",
    "    y_train, y_valid = y.iloc[train_idx], y.iloc[valid_idx]\n",
    "\n",
    "    # чтобы в тест не утекли глобальные статистики трейна, сначала сплитим, потом генерируем фичи\n",
    "    X_train = fe(X_train).iloc[:, selected_features]\n",
    "    X_valid = fe(X_valid).iloc[:, selected_features]\n",
    "\n",
    "    # xgb требует указания категориальных фичей как 'category'\n",
    "    for col in cats:\n",
    "        X_train[col] = X_train[col].astype('category')\n",
    "        X_valid[col] = X_valid[col].astype('category')\n",
    "\n",
    "    cat_columns = [X_train.columns.get_loc(col) for col in cats]\n",
    "    \n",
    "    model = XGBClassifier(\n",
    "        n_estimators=1000,\n",
    "        learning_rate=0.05,\n",
    "        max_depth=6,\n",
    "        subsample=0.8,\n",
    "        colsample_bytree=0.8,\n",
    "        random_state=69,\n",
    "        n_jobs=4,\n",
    "        eval_metric='auc',\n",
    "        early_stopping_rounds=100,\n",
    "        use_label_encoder=False,\n",
    "        enable_categorical=True, \n",
    "        tree_method='hist'\n",
    "    )\n",
    "    \n",
    "    model.fit(\n",
    "        X_train, y_train,\n",
    "        eval_set=[(X_valid, y_valid)],\n",
    "        verbose=False\n",
    "    )\n",
    "\n",
    "    y_pred = model.predict_proba(X_valid)[:, 1]\n",
    "    \n",
    "    fold_roc_auc = roc_auc_score(y_valid, y_pred)\n",
    "    fold_acc = accuracy_score(y_valid, y_pred > 0.5)\n",
    "    print(f'FOLD {fold}, Validation ROC-AUC score: {fold_roc_auc:.4f}, Accuracy score: {fold_acc:.4f}')\n",
    "\n",
    "    oof_xgb[valid_idx] = y_pred\n",
    "\n",
    "oof_roc_auc = roc_auc_score(y, oof_xgb)\n",
    "oof_accuracy = accuracy_score(y, oof_xgb > 0.5)\n",
    "print(f'\\nOverall XGB w/ FE&FS OOF ROC-AUC: {oof_roc_auc:.4f}, OOF Accuracy: {oof_accuracy:.4f}')"
   ]
  },
  {
   "cell_type": "code",
   "execution_count": 153,
   "metadata": {
    "execution": {
     "iopub.execute_input": "2025-03-27T19:17:08.616831Z",
     "iopub.status.busy": "2025-03-27T19:17:08.616450Z",
     "iopub.status.idle": "2025-03-27T19:17:08.646854Z",
     "shell.execute_reply": "2025-03-27T19:17:08.645670Z",
     "shell.execute_reply.started": "2025-03-27T19:17:08.616800Z"
    },
    "trusted": true
   },
   "outputs": [
    {
     "name": "stdout",
     "output_type": "stream",
     "text": [
      "\n",
      "Overall BLEND w/ FE&FS OOF ROC-AUC: 0.8274, OOF Accuracy: 0.7378\n"
     ]
    }
   ],
   "source": [
    "# сблендим предсказания и посмотрим на метрики\n",
    "\n",
    "oof_blend = (oof_cat + oof_lgb + oof_xgb) / 3\n",
    "\n",
    "oof_roc_auc = roc_auc_score(y, oof_blend)\n",
    "oof_accuracy = accuracy_score(y, oof_blend > 0.5)\n",
    "print(f'\\nOverall BLEND w/ FE&FS OOF ROC-AUC: {oof_roc_auc:.4f}, OOF Accuracy: {oof_accuracy:.4f}')"
   ]
  },
  {
   "cell_type": "markdown",
   "metadata": {},
   "source": [
    "# Подбор гиперпараметров (15 баллов)\n",
    "\n",
    "Для изучения того, какие гиперпараметры доступны у модели для выбора можно использовать '? ModelName'\n",
    "Определитесь с тем, какие гиперпараметры вы хотите оптимизировать и укажите их в objective. Выполните поиск гиперпараметров с Optuna"
   ]
  },
  {
   "cell_type": "code",
   "execution_count": 112,
   "metadata": {
    "execution": {
     "iopub.execute_input": "2025-03-27T18:37:05.273924Z",
     "iopub.status.busy": "2025-03-27T18:37:05.273541Z",
     "iopub.status.idle": "2025-03-27T18:37:05.278436Z",
     "shell.execute_reply": "2025-03-27T18:37:05.277205Z",
     "shell.execute_reply.started": "2025-03-27T18:37:05.273892Z"
    },
    "trusted": true
   },
   "outputs": [],
   "source": [
    "# ? CatBoostClassifier"
   ]
  },
  {
   "cell_type": "code",
   "execution_count": 117,
   "metadata": {
    "execution": {
     "iopub.execute_input": "2025-03-27T18:37:32.006345Z",
     "iopub.status.busy": "2025-03-27T18:37:32.005962Z",
     "iopub.status.idle": "2025-03-27T18:37:32.010953Z",
     "shell.execute_reply": "2025-03-27T18:37:32.009590Z",
     "shell.execute_reply.started": "2025-03-27T18:37:32.006309Z"
    },
    "trusted": true
   },
   "outputs": [],
   "source": [
    "# ? lgb.LGBMClassifier"
   ]
  },
  {
   "cell_type": "code",
   "execution_count": 114,
   "metadata": {
    "execution": {
     "iopub.execute_input": "2025-03-27T18:37:14.425488Z",
     "iopub.status.busy": "2025-03-27T18:37:14.425070Z",
     "iopub.status.idle": "2025-03-27T18:37:14.429915Z",
     "shell.execute_reply": "2025-03-27T18:37:14.428420Z",
     "shell.execute_reply.started": "2025-03-27T18:37:14.425457Z"
    },
    "trusted": true
   },
   "outputs": [],
   "source": [
    "# ? XGBClassifier"
   ]
  },
  {
   "cell_type": "code",
   "execution_count": 154,
   "metadata": {
    "execution": {
     "iopub.execute_input": "2025-03-27T19:17:08.648426Z",
     "iopub.status.busy": "2025-03-27T19:17:08.647993Z",
     "iopub.status.idle": "2025-03-27T19:17:08.657078Z",
     "shell.execute_reply": "2025-03-27T19:17:08.655788Z",
     "shell.execute_reply.started": "2025-03-27T19:17:08.648385Z"
    },
    "trusted": true
   },
   "outputs": [],
   "source": [
    "def objective(trial):\n",
    "    params = {\n",
    "        'iterations': trial.suggest_int('iterations', 500, 2000),\n",
    "        'learning_rate': trial.suggest_float('learning_rate', 0.01, 0.3, log=True),\n",
    "        'loss_function': 'Logloss',\n",
    "        'eval_metric': 'AUC',\n",
    "        'task_type': 'CPU',\n",
    "        'random_state': 69,\n",
    "        'verbose': 0,\n",
    "        # добавьте сюда прочие гиперпараметры, к примеру l2_leaf_reg, random_strength, bagging_temperature, ...\n",
    "    }\n",
    "    \n",
    "    if 'cats' in globals():\n",
    "        params['cat_features'] = cats\n",
    "    \n",
    "    skf = StratifiedKFold(n_splits=5, shuffle=True, random_state=69)\n",
    "    oof_cat = np.zeros(len(X))\n",
    "    \n",
    "    for train_idx, valid_idx in skf.split(X, y):\n",
    "        X_train, X_valid = X.iloc[train_idx], X.iloc[valid_idx]\n",
    "        y_train, y_valid = y.iloc[train_idx], y.iloc[valid_idx]\n",
    "        \n",
    "        X_train = fe(X_train).iloc[:, selected_features]\n",
    "        X_valid = fe(X_valid).iloc[:, selected_features]\n",
    "        \n",
    "        model = CatBoostClassifier(**params)\n",
    "        model.fit(\n",
    "            X_train, y_train,\n",
    "            eval_set=(X_valid, y_valid),\n",
    "            early_stopping_rounds=100,\n",
    "            verbose=0\n",
    "        )\n",
    "        \n",
    "        y_pred = model.predict_proba(X_valid)[:, 1]\n",
    "        oof_cat[valid_idx] = y_pred\n",
    "\n",
    "    oof_roc_auc = roc_auc_score(y, oof_cat)\n",
    "    \n",
    "    return oof_roc_auc"
   ]
  },
  {
   "cell_type": "code",
   "execution_count": null,
   "metadata": {
    "scrolled": true,
    "trusted": true
   },
   "outputs": [],
   "source": [
    "study = optuna.create_study(direction='maximize')\n",
    "study.optimize(objective, n_trials=50, timeout=3600)\n",
    "\n",
    "cat_params = study.best_params\n",
    "cat_params"
   ]
  },
  {
   "cell_type": "code",
   "execution_count": 155,
   "metadata": {
    "execution": {
     "iopub.execute_input": "2025-03-27T19:17:08.659082Z",
     "iopub.status.busy": "2025-03-27T19:17:08.658660Z",
     "iopub.status.idle": "2025-03-27T19:17:08.682199Z",
     "shell.execute_reply": "2025-03-27T19:17:08.680692Z",
     "shell.execute_reply.started": "2025-03-27T19:17:08.659041Z"
    },
    "trusted": true
   },
   "outputs": [],
   "source": [
    "def objective(trial):\n",
    "    params = {\n",
    "        'objective': 'binary',\n",
    "        'metric': 'auc',\n",
    "        'boosting_type': 'gbdt',\n",
    "        'n_estimators': trial.suggest_int('n_estimators', 500, 2000),\n",
    "        'max_depth': trial.suggest_int('max_depth', 3, 12),\n",
    "        'random_state': 69,\n",
    "        'n_jobs': 4,\n",
    "        'verbosity': -1,\n",
    "        'early_stopping_rounds': 100\n",
    "        # добавьте сюда прочие гиперпараметры, к примеру num_leaves, min_child_samples, subsample, ...\n",
    "    }\n",
    "    \n",
    "    skf = StratifiedKFold(n_splits=5, shuffle=True, random_state=69)\n",
    "    oof_lgb = np.zeros(len(X))\n",
    "    \n",
    "    for train_idx, valid_idx in skf.split(X, y):\n",
    "        X_train, X_valid = X.iloc[train_idx], X.iloc[valid_idx]\n",
    "        y_train, y_valid = y.iloc[train_idx], y.iloc[valid_idx]\n",
    "        \n",
    "        X_train = fe(X_train).iloc[:, selected_features]\n",
    "        X_valid = fe(X_valid).iloc[:, selected_features]\n",
    "        \n",
    "        for col in cats:\n",
    "            X_train[col] = X_train[col].astype('category')\n",
    "            X_valid[col] = X_valid[col].astype('category')\n",
    "        \n",
    "        model = lgb.LGBMClassifier(**params)\n",
    "        model.fit(\n",
    "            X_train, y_train,\n",
    "            eval_set=[(X_valid, y_valid)],\n",
    "            categorical_feature=cats,\n",
    "        )\n",
    "        \n",
    "        y_pred = model.predict_proba(X_valid)[:, 1]\n",
    "        oof_lgb[valid_idx] = y_pred\n",
    "\n",
    "    oof_roc_auc = roc_auc_score(y, oof_lgb)\n",
    "    \n",
    "    return oof_roc_auc"
   ]
  },
  {
   "cell_type": "code",
   "execution_count": null,
   "metadata": {
    "scrolled": true,
    "trusted": true
   },
   "outputs": [],
   "source": [
    "study = optuna.create_study(direction='maximize')\n",
    "study.optimize(objective, n_trials=50, timeout=3600)\n",
    "\n",
    "lgb_params = study.best_params\n",
    "lgb_params"
   ]
  },
  {
   "cell_type": "code",
   "execution_count": 156,
   "metadata": {
    "execution": {
     "iopub.execute_input": "2025-03-27T19:17:08.684252Z",
     "iopub.status.busy": "2025-03-27T19:17:08.683741Z",
     "iopub.status.idle": "2025-03-27T19:17:08.715787Z",
     "shell.execute_reply": "2025-03-27T19:17:08.713267Z",
     "shell.execute_reply.started": "2025-03-27T19:17:08.684187Z"
    },
    "trusted": true
   },
   "outputs": [],
   "source": [
    "def objective(trial):\n",
    "    params = {\n",
    "        'n_estimators': trial.suggest_int('n_estimators', 500, 2000),\n",
    "        'learning_rate': trial.suggest_float('learning_rate', 0.01, 0.3, log=True),\n",
    "        'max_depth': trial.suggest_int('max_depth', 3, 12),\n",
    "        'eval_metric': 'auc',\n",
    "        'early_stopping_rounds': 100,\n",
    "        'use_label_encoder': False,\n",
    "        'enable_categorical': True,\n",
    "        'tree_method': 'hist',\n",
    "        'random_state': 69,\n",
    "        'n_jobs': 4\n",
    "        # добавьте сюда прочие гиперпараметры, к примеру gamma, min_child_weight, subsample, ...\n",
    "    }\n",
    "    \n",
    "    skf = StratifiedKFold(n_splits=5, shuffle=True, random_state=69)\n",
    "    oof_xgb = np.zeros(len(X))\n",
    "    \n",
    "    for train_idx, valid_idx in skf.split(X, y):\n",
    "        X_train, X_valid = X.iloc[train_idx], X.iloc[valid_idx]\n",
    "        y_train, y_valid = y.iloc[train_idx], y.iloc[valid_idx]\n",
    "        \n",
    "\n",
    "        X_train = fe(X_train).iloc[:, selected_features]\n",
    "        X_valid = fe(X_valid).iloc[:, selected_features]\n",
    "        \n",
    "        for col in cats:\n",
    "            X_train[col] = X_train[col].astype('category')\n",
    "            X_valid[col] = X_valid[col].astype('category')\n",
    "        \n",
    "        model = XGBClassifier(**params)\n",
    "        model.fit(\n",
    "            X_train, y_train,\n",
    "            eval_set=[(X_valid, y_valid)],\n",
    "            verbose=False\n",
    "        )\n",
    "        \n",
    "        y_pred = model.predict_proba(X_valid)[:, 1]\n",
    "        oof_xgb[valid_idx] = y_pred\n",
    "\n",
    "    oof_roc_auc = roc_auc_score(y, oof_xgb)\n",
    "    \n",
    "    return oof_roc_auc"
   ]
  },
  {
   "cell_type": "code",
   "execution_count": null,
   "metadata": {
    "scrolled": true,
    "trusted": true
   },
   "outputs": [],
   "source": [
    "study = optuna.create_study(direction='maximize')\n",
    "study.optimize(objective, n_trials=50, timeout=3600)\n",
    "\n",
    "xgb_params = study.best_params"
   ]
  },
  {
   "cell_type": "markdown",
   "metadata": {},
   "source": [
    "# Обучим модели с новыми гиперпараметрами"
   ]
  },
  {
   "cell_type": "code",
   "execution_count": null,
   "metadata": {
    "trusted": true
   },
   "outputs": [],
   "source": [
    "skf = StratifiedKFold(n_splits=5, shuffle=True, random_state=69)\n",
    "oof_cat = np.zeros(len(X))\n",
    "\n",
    "for fold, (train_idx, valid_idx) in enumerate(skf.split(X, y)):\n",
    "    X_train, X_valid = X.iloc[train_idx], X.iloc[valid_idx]\n",
    "    y_train, y_valid = y.iloc[train_idx], y.iloc[valid_idx]\n",
    "\n",
    "    # чтобы в тест не утекли глобальные статистики трейна, сначала сплитим, потом генерируем фичи\n",
    "    X_train = fe(X_train).iloc[:, selected_features]\n",
    "    X_valid = fe(X_valid).iloc[:, selected_features]\n",
    "\n",
    "    model = CatBoostClassifier(\n",
    "        **cat_params,\n",
    "        early_stopping_rounds=100,\n",
    "        random_state=69,\n",
    "        verbose=0,\n",
    "        thread_count=4\n",
    "    )\n",
    "    model.fit(X_train, y_train, eval_set=(X_valid, y_valid))\n",
    "\n",
    "    y_pred = model.predict_proba(X_valid)[:, 1]\n",
    "    \n",
    "    fold_roc_auc = roc_auc_score(y_valid, y_pred)\n",
    "    fold_acc = accuracy_score(y_valid, y_pred > 0.5)\n",
    "    print(f'FOLD {fold}, Validation ROC-AUC score: {fold_roc_auc:.4f}, Accuracy score: {fold_acc:.4f}')\n",
    "\n",
    "    oof_cat[valid_idx] = y_pred\n",
    "\n",
    "oof_roc_auc = roc_auc_score(y, oof_cat)\n",
    "oof_accuracy = accuracy_score(y, oof_cat > 0.5)\n",
    "print(f'\\nOverall Tuned CAT w/ FE&FS OOF ROC-AUC: {oof_roc_auc:.4f}, OOF Accuracy: {oof_accuracy:.4f}')"
   ]
  },
  {
   "cell_type": "code",
   "execution_count": null,
   "metadata": {
    "trusted": true
   },
   "outputs": [],
   "source": [
    "skf = StratifiedKFold(n_splits=5, shuffle=True, random_state=69)\n",
    "oof_lgb = np.zeros(len(X))\n",
    "\n",
    "for fold, (train_idx, valid_idx) in enumerate(skf.split(X, y)):\n",
    "    X_train, X_valid = X.iloc[train_idx], X.iloc[valid_idx]\n",
    "    y_train, y_valid = y.iloc[train_idx], y.iloc[valid_idx]\n",
    "\n",
    "    # чтобы в тест не утекли глобальные статистики трейна, сначала сплитим, потом генерируем фичи\n",
    "    X_train = fe(X_train).iloc[:, selected_features]\n",
    "    X_valid = fe(X_valid).iloc[:, selected_features]\n",
    "\n",
    "    # lgbm требует указания категориальных фичей как 'category'\n",
    "    for col in cats:\n",
    "        X_train[col] = X_train[col].astype('category')\n",
    "        X_valid[col] = X_valid[col].astype('category')\n",
    "\n",
    "    final_params = {\n",
    "        **best_params,\n",
    "        'objective': 'binary',\n",
    "        'metric': 'auc',\n",
    "        'boosting_type': 'gbdt',\n",
    "        'random_state': 69,\n",
    "        'n_jobs': 4,\n",
    "        'verbosity': -1,\n",
    "        'early_stopping_round': 100\n",
    "    }\n",
    "\n",
    "    model = lgb.LGBMClassifier(**final_params)\n",
    "    model.fit(\n",
    "        X_train, y_train,\n",
    "        eval_set=[(X_valid, y_valid)],\n",
    "        categorical_feature=cats\n",
    "    )\n",
    "\n",
    "    y_pred = model.predict_proba(X_valid)[:, 1]\n",
    "    \n",
    "    fold_roc_auc = roc_auc_score(y_valid, y_pred)\n",
    "    fold_acc = accuracy_score(y_valid, y_pred > 0.5)\n",
    "    print(f'FOLD {fold}, Validation ROC-AUC score: {fold_roc_auc:.4f}, Accuracy score: {fold_acc:.4f}')\n",
    "\n",
    "    oof_lgb[valid_idx] = y_pred\n",
    "\n",
    "oof_roc_auc = roc_auc_score(y, oof_lgb)\n",
    "oof_accuracy = accuracy_score(y, oof_lgb > 0.5)\n",
    "print(f'\\nOverall Tuned LGB w/ FE&FS OOF ROC-AUC: {oof_roc_auc:.4f}, OOF Accuracy: {oof_accuracy:.4f}')"
   ]
  },
  {
   "cell_type": "code",
   "execution_count": null,
   "metadata": {
    "trusted": true
   },
   "outputs": [],
   "source": [
    "skf = StratifiedKFold(n_splits=5, shuffle=True, random_state=69)\n",
    "oof_xgb = np.zeros(len(X))\n",
    "\n",
    "for fold, (train_idx, valid_idx) in enumerate(skf.split(X, y)):\n",
    "    X_train, X_valid = X.iloc[train_idx], X.iloc[valid_idx]\n",
    "    y_train, y_valid = y.iloc[train_idx], y.iloc[valid_idx]\n",
    "\n",
    "    # чтобы в тест не утекли глобальные статистики трейна, сначала сплитим, потом генерируем фичи\n",
    "    X_train = fe(X_train).iloc[:, selected_features]\n",
    "    X_valid = fe(X_valid).iloc[:, selected_features]\n",
    "\n",
    "    # xgb требует указания категориальных фичей как 'category'\n",
    "    for col in cats:\n",
    "        X_train[col] = X_train[col].astype('category')\n",
    "        X_valid[col] = X_valid[col].astype('category')\n",
    "\n",
    "    cat_columns = [X_train.columns.get_loc(col) for col in cats]\n",
    "\n",
    "    final_params = {\n",
    "        **xgb_params,\n",
    "        'eval_metric': 'auc',\n",
    "        'early_stopping_rounds': 100,\n",
    "        'use_label_encoder': False,\n",
    "        'enable_categorical': True,\n",
    "        'tree_method': 'hist',\n",
    "        'random_state': 69,\n",
    "        'n_jobs': 4\n",
    "    }\n",
    "\n",
    "    model = XGBClassifier(**final_params)\n",
    "    model.fit(\n",
    "        X_train, y_train,\n",
    "        eval_set=[(X_valid, y_valid)],\n",
    "        verbose=False\n",
    "    )\n",
    "\n",
    "    y_pred = model.predict_proba(X_valid)[:, 1]\n",
    "    \n",
    "    fold_roc_auc = roc_auc_score(y_valid, y_pred)\n",
    "    fold_acc = accuracy_score(y_valid, y_pred > 0.5)\n",
    "    print(f'FOLD {fold}, Validation ROC-AUC score: {fold_roc_auc:.4f}, Accuracy score: {fold_acc:.4f}')\n",
    "\n",
    "    oof_xgb[valid_idx] = y_pred\n",
    "\n",
    "oof_roc_auc = roc_auc_score(y, oof_xgb)\n",
    "oof_accuracy = accuracy_score(y, oof_xgb > 0.5)\n",
    "print(f'\\nOverall Tuned XGB w/ FE&FS OOF ROC-AUC: {oof_roc_auc:.4f}, OOF Accuracy: {oof_accuracy:.4f}')"
   ]
  },
  {
   "cell_type": "code",
   "execution_count": null,
   "metadata": {
    "trusted": true
   },
   "outputs": [],
   "source": [
    "# сблендим предсказания и посмотрим на метрики\n",
    "\n",
    "oof_blend = (oof_cat + oof_lgb + oof_xgb) / 3\n",
    "\n",
    "oof_roc_auc = roc_auc_score(y, oof_blend)\n",
    "oof_accuracy = accuracy_score(y, oof_blend > 0.5)\n",
    "print(f'\\nOverall Tuned BLEND w/ FE&FS OOF ROC-AUC: {oof_roc_auc:.4f}, OOF Accuracy: {oof_accuracy:.4f}')"
   ]
  },
  {
   "cell_type": "markdown",
   "metadata": {},
   "source": [
    "# Итоговая важность фичей"
   ]
  },
  {
   "cell_type": "code",
   "execution_count": null,
   "metadata": {
    "trusted": true
   },
   "outputs": [],
   "source": [
    "# изучите итоговые важности фичей моделей catboost, lgbm, xgb (используйте обычный feature importance)\n",
    "# можно использовать модели с последнего фолда\n",
    "# если хочется более точно - можно посчитать важности на каждом фолде и усреднить (это опционально)\n",
    "\n",
    "# ваш код:\n",
    "..."
   ]
  }
 ],
 "metadata": {
  "kaggle": {
   "accelerator": "none",
   "dataSources": [
    {
     "databundleVersionId": 302495,
     "sourceId": 13044,
     "sourceType": "competition"
    }
   ],
   "dockerImageVersionId": 30918,
   "isGpuEnabled": false,
   "isInternetEnabled": true,
   "language": "python",
   "sourceType": "notebook"
  },
  "kernelspec": {
   "display_name": "Python 3",
   "language": "python",
   "name": "python3"
  },
  "language_info": {
   "codemirror_mode": {
    "name": "ipython",
    "version": 3
   },
   "file_extension": ".py",
   "mimetype": "text/x-python",
   "name": "python",
   "nbconvert_exporter": "python",
   "pygments_lexer": "ipython3",
   "version": "3.10.12"
  }
 },
 "nbformat": 4,
 "nbformat_minor": 4
}
